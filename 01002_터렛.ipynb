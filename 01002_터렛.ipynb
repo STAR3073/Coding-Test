{
 "cells": [
  {
   "cell_type": "markdown",
   "id": "73a2b59e",
   "metadata": {},
   "source": [
    "https://www.acmicpc.net/problem/1002"
   ]
  },
  {
   "cell_type": "code",
   "execution_count": 31,
   "id": "77cafd90",
   "metadata": {},
   "outputs": [
    {
     "name": "stdout",
     "output_type": "stream",
     "text": [
      "4\n",
      "0 0 13 40 0 37\n",
      "2\n",
      "0 0 3 0 7 4\n",
      "1\n",
      "1 1 1 1 1 5\n",
      "0\n",
      "1 1 2 1 1 2\n",
      "-1\n"
     ]
    }
   ],
   "source": [
    "T = int(input())\n",
    "\n",
    "for i in range(T):\n",
    "    x1, y1, r1, x2, y2, r2 = map(int, input().split())\n",
    "    \n",
    "    # 중점 거리 계산\n",
    "    d = ((x1 - x2) ** 2 + (y1 - y2) ** 2) ** (1 / 2)\n",
    "    \n",
    "    # 원이 같을 때\n",
    "    if (d == 0) & (r1 == r2):\n",
    "        print(-1)\n",
    "    \n",
    "    # 두 점에서 접할 때\n",
    "    elif (d > abs(r1 - r2)) & (d < r1 + r2):\n",
    "        print(2)\n",
    "        \n",
    "    # 한 점에서 접할 때\n",
    "    elif (d == abs(r1 - r2)) | (d == abs(r1 + r2)):\n",
    "        print(1)\n",
    "    \n",
    "    # 두 원이 접하지 않을 때\n",
    "    elif (d < abs(r1 - r2)) | (d > r1 + r2):\n",
    "        print(0)"
   ]
  }
 ],
 "metadata": {
  "kernelspec": {
   "display_name": "Python 3",
   "language": "python",
   "name": "python3"
  },
  "language_info": {
   "codemirror_mode": {
    "name": "ipython",
    "version": 3
   },
   "file_extension": ".py",
   "mimetype": "text/x-python",
   "name": "python",
   "nbconvert_exporter": "python",
   "pygments_lexer": "ipython3",
   "version": "3.8.8"
  }
 },
 "nbformat": 4,
 "nbformat_minor": 5
}
